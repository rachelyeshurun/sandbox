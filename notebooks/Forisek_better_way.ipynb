{
 "cells": [
  {
   "cell_type": "markdown",
   "metadata": {
    "metadata": {
     "deletable": false,
     "editable": false,
     "trusted": true
    }
   },
   "source": [
    "# Creating Dynamic Algorithms\n",
    "__By Rachel Yeshurun, June 2020__"
   ]
  },
  {
   "cell_type": "markdown",
   "metadata": {},
   "source": [
    "This notebook is based on the article: _Towards a better way to teach dynamic programming_ (Forišek, 2015)"
   ]
  },
  {
   "cell_type": "markdown",
   "metadata": {},
   "source": [
    "The following is a quote from _Towards a better way to teach dynamic programming_ (Forišek, 2015)\n",
    ">\"Note that we intentionally start with the top-down version of dynamic programming, i.e., by adding memoization to recursive functions. This is intentional and very significant. The main purpose of this choice is to show the students how to break up the design of an efficient solution into multiple steps:\n",
    ">1. Implement a recursive algorithm that examines all possible solutions of the given problem.\n",
    ">2. Use the algorithm to discover a recursive relation between various subproblems\n",
    ">3. Add memoization to improve the time complexity, often substantially\n",
    ">4. Optionally, convert the solution into an iterative bottom-up solution\n",
    ">\n",
    ">The more traditional approach that starts with iterative DP requires students to do steps 2 and 4 at the same time, without giving them good tools to do the analysis and to discover the optimal substructure. In our approach, step 1 gives them such a tool: once we have the recursive solution, the arguments of the recursive function define the subproblems, and we can examine whether the function gets called multiple times with the same arguments. If it does, we know that the problem does exhibit the optimal substructure, and in step 3 we mechanically convert our inefficient solution into an efficient one.\" (Forišek, 2015)"
   ]
  },
  {
   "cell_type": "markdown",
   "metadata": {},
   "source": [
    "## Lesson 4 Maximum Weighted Independent set on a line"
   ]
  },
  {
   "cell_type": "code",
   "execution_count": null,
   "metadata": {
    "solution2": "hidden"
   },
   "outputs": [],
   "source": [
    "v = [ 3, 1, 4, 1, 5, 9]\n",
    "def solve(k):\n",
    "    if k == 1:\n",
    "        return v[0]\n",
    "    if k == 2:\n",
    "        m = max(v[0], v[1]) \n",
    "        print(m)\n",
    "        return m\n",
    "    m = max(solve(k-1), v[k-1] + solve(k-2))\n",
    "    print(m)\n",
    "    return m\n",
    "\n",
    "solve(len(v))\n"
   ]
  },
  {
   "cell_type": "markdown",
   "metadata": {},
   "source": [
    "### Memoize the flask problem"
   ]
  },
  {
   "cell_type": "markdown",
   "metadata": {
    "slideshow": {
     "slide_type": "slide"
    },
    "solution2": "hidden",
    "solution2_first": true
   },
   "source": [
    "### Coding exercise\n",
    "Solve the problem you idiot!"
   ]
  },
  {
   "cell_type": "code",
   "execution_count": 7,
   "metadata": {
    "solution2": "hidden"
   },
   "outputs": [
    {
     "name": "stdout",
     "output_type": "stream",
     "text": [
      "22\n"
     ]
    }
   ],
   "source": [
    "v = [ 3, 1, 4, 1, 5, 9, 10]\n",
    "def solve(flasks):\n",
    "    num_elements = len(flasks)\n",
    "    if num_elements == 1:\n",
    "        return flasks[0]\n",
    "    if num_elements == 2:\n",
    "        return max(flasks[0], flasks[1]) \n",
    "    return max(solve(flasks[:num_elements - 1]), flasks[num_elements - 1] + solve(flasks[:num_elements - 2]))\n",
    "\n",
    "print (solve(v))"
   ]
  },
  {
   "cell_type": "code",
   "execution_count": 2,
   "metadata": {
    "slideshow": {
     "slide_type": "slide"
    }
   },
   "outputs": [
    {
     "name": "stdout",
     "output_type": "stream",
     "text": [
      "2 3\n",
      "1 3\n",
      "3 7\n",
      "4 7\n",
      "5 12\n",
      "6 16\n"
     ]
    },
    {
     "data": {
      "text/plain": [
       "{1: 3, 0: 3, 2: 7, 3: 7, 4: 12, 5: 16}"
      ]
     },
     "execution_count": 2,
     "metadata": {},
     "output_type": "execute_result"
    }
   ],
   "source": [
    "v = [ 3, 1, 4, 1, 5, 9]\n",
    "memo = {}\n",
    "def solve(k):\n",
    "    if not k-1 in memo:   \n",
    "        if k == 1:\n",
    "            memo[0] = v[0]\n",
    "            print (k, memo[k-1])\n",
    "        elif k == 2:\n",
    "            memo[1] = max(v[0], v[1]) \n",
    "            print (k, memo[k-1])\n",
    "        else:\n",
    "            memo[k-1] = max(solve(k-1), v[k-1] + solve(k-2))\n",
    "            print (k, memo[k-1])\n",
    "    return memo[k-1]\n",
    "\n",
    "solve(len(v))\n",
    "memo"
   ]
  },
  {
   "cell_type": "markdown",
   "metadata": {
    "slideshow": {
     "slide_type": "slide"
    }
   },
   "source": [
    "Memoize with decorator. Idea from here: https://www.python-course.eu/python3_memoization.php"
   ]
  },
  {
   "cell_type": "code",
   "execution_count": 2,
   "metadata": {
    "slideshow": {
     "slide_type": "slide"
    }
   },
   "outputs": [
    {
     "name": "stdout",
     "output_type": "stream",
     "text": [
      "16\n"
     ]
    }
   ],
   "source": [
    "v = [ 3, 1, 4, 1, 5, 9]\n",
    "\n",
    "def memoize(f):\n",
    "    memo = {}\n",
    "    def helper(flasks):\n",
    "        x = len(flasks) - 1\n",
    "        if x not in memo:\n",
    "            memo[x] = f(flasks)\n",
    "        print (memo[x])\n",
    "        return memo[x]\n",
    "    return helper\n",
    "        \n",
    "@memoize\n",
    "def solve(flasks):\n",
    "\n",
    "    num_elements = len(flasks)\n",
    "    if num_elements == 1:\n",
    "        return flasks[0]\n",
    "    if num_elements == 2:\n",
    "        return max(flasks[0], flasks[1]) \n",
    "    return max(solve(flasks[:num_elements - 1]), flasks[num_elements - 1] + solve(flasks[:num_elements - 2]))\n",
    "\n",
    "print (solve(v))\n"
   ]
  },
  {
   "cell_type": "code",
   "execution_count": null,
   "metadata": {},
   "outputs": [],
   "source": [
    "### Lesson 5: An iterative solution to the flask problem"
   ]
  },
  {
   "cell_type": "code",
   "execution_count": null,
   "metadata": {},
   "outputs": [],
   "source": [
    "v = [ 3, 1, 4, 1, 5, 9]\n",
    "      \n",
    "def solve(flasks):\n",
    "    print(flasks)\n",
    "    num_elements = len(flasks)\n",
    "    prev_prev_max = 0\n",
    "    prev_max = 0\n",
    "    for x in range(num_elements):\n",
    "        total_drink = max(prev_max, flasks[x] + prev_prev_max)\n",
    "        prev_prev_max = prev_max\n",
    "        prev_max = total_drink\n",
    "        print(x, prev_prev_max, prev_max)\n",
    "    return total_drink\n",
    "\n",
    "print (solve(v))\n"
   ]
  },
  {
   "cell_type": "markdown",
   "metadata": {},
   "source": [
    "### Lesson 8: Longest Increasing Subsequence"
   ]
  },
  {
   "cell_type": "markdown",
   "metadata": {},
   "source": [
    "Step one is to implement a recursive solution that finds *all* increasing subsequences\n",
    "(TODO: this wording of the step is presented as a quiz: \"What is step 1?\")"
   ]
  },
  {
   "cell_type": "code",
   "execution_count": null,
   "metadata": {},
   "outputs": [],
   "source": [
    "all_subsequences = []\n",
    "\n",
    "v = [14, 2, 6, 40, 5, 20, 1, 34]\n",
    "prev = [-1, -1, -1, -1, -1, -1, -1, -1]\n",
    "#v = [20, 1, 34]\n",
    "\n",
    "def all_increasing(sequence):\n",
    "    print(sequence)\n",
    "    n = len(sequence)\n",
    "    if len(sequence) == 1:\n",
    "        print(\"end of recursion: \", sequence[0])\n",
    "        return sequence[0]\n",
    "    print(\"length is \", n, \"last element is: \", sequence[n -1])\n",
    "    for i in reversed(range(n - 1)):\n",
    "        print(\"i=\", i, \" n= \", n,   \" sequence[:i + 1] \",sequence[:i + 1])\n",
    "        if (sequence[i] < sequence[n - 1]):\n",
    "            print(sequence[i], \" < \" ,sequence[n - 1])\n",
    "            print(\"examine sequence: \", sequence[:i + 1])\n",
    "            all_increasing(sequence[:i + 1])\n",
    "        \n",
    "all_increasing(v)"
   ]
  },
  {
   "cell_type": "markdown",
   "metadata": {},
   "source": [
    "Forišek, M. (2015). Towards a better way to teach dynamic programming. Olympiads in Informatics, 9, 45–55.\n"
   ]
  },
  {
   "cell_type": "markdown",
   "metadata": {
    "solution2": "hidden",
    "solution2_first": true
   },
   "source": [
    "**Question 1:** How many times is fibonacci(3) called when calculating fibonacci(6)?"
   ]
  },
  {
   "cell_type": "markdown",
   "metadata": {
    "solution2": "hidden"
   },
   "source": [
    "3"
   ]
  },
  {
   "cell_type": "markdown",
   "metadata": {
    "solution2": "shown",
    "solution2_first": true
   },
   "source": [
    "**Question 2:** How many times is fibonacci(4) called when calculating fibonacci(6)?"
   ]
  },
  {
   "cell_type": "markdown",
   "metadata": {
    "solution2": "shown"
   },
   "source": [
    "Fibonacci(4) is called **2** times"
   ]
  },
  {
   "cell_type": "code",
   "execution_count": null,
   "metadata": {},
   "outputs": [],
   "source": []
  }
 ],
 "metadata": {
  "kernelspec": {
   "display_name": "Python 3",
   "language": "python",
   "name": "python3"
  },
  "language_info": {
   "codemirror_mode": {
    "name": "ipython",
    "version": 3
   },
   "file_extension": ".py",
   "mimetype": "text/x-python",
   "name": "python",
   "nbconvert_exporter": "python",
   "pygments_lexer": "ipython3",
   "version": "3.7.6"
  },
  "latex_envs": {
   "LaTeX_envs_menu_present": true,
   "autoclose": false,
   "autocomplete": true,
   "bibliofile": "biblio.bib",
   "cite_by": "apalike",
   "current_citInitial": 1,
   "eqLabelWithNumbers": true,
   "eqNumInitial": 1,
   "hotkeys": {
    "equation": "Ctrl-E",
    "itemize": "Ctrl-I"
   },
   "labels_anchors": false,
   "latex_user_defs": false,
   "report_style_numbering": false,
   "user_envs_cfg": false
  },
  "toc": {
   "base_numbering": 1,
   "nav_menu": {},
   "number_sections": true,
   "sideBar": true,
   "skip_h1_title": false,
   "title_cell": "Table of Contents",
   "title_sidebar": "Contents",
   "toc_cell": false,
   "toc_position": {},
   "toc_section_display": true,
   "toc_window_display": false
  }
 },
 "nbformat": 4,
 "nbformat_minor": 4
}
